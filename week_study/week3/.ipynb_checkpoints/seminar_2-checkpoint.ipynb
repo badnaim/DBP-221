{
 "cells": [
  {
   "cell_type": "code",
   "execution_count": 3,
   "id": "93236799",
   "metadata": {},
   "outputs": [
    {
     "name": "stdout",
     "output_type": "stream",
     "text": [
      "True\n"
     ]
    }
   ],
   "source": [
    "# 1. Өгөгдсөн утга нь палиндром эсэхийг шалгах функц бич. \n",
    "\n",
    "def is_palindrome(x):\n",
    "    x = x.replace(\" \", \"\").lower()\n",
    "    return x == x[::-1]\n",
    "print(is_palindrome(\"erre\"))"
   ]
  },
  {
   "cell_type": "code",
   "execution_count": 16,
   "id": "b8bd2a15",
   "metadata": {},
   "outputs": [
    {
     "name": "stdout",
     "output_type": "stream",
     "text": [
      "['a', 'W', 'c', 'V']\n"
     ]
    }
   ],
   "source": [
    "# 2. Өгөгдсөн жагсаалтаас том болон жижиг үсгүүдийг тоолох функц бич.\n",
    "\n",
    "list = [\"a\", \"W\", \"c\", 3, \"$\", \"V\", 1]\n",
    "def find_alphabet(x):\n",
    "    my_list = []\n",
    "    for one in x:\n",
    "        if isinstance(one, str) and one.isalpha():\n",
    "            my_list.append(one)\n",
    "    return my_list\n",
    "            \n",
    "print(find_alphabet(list))"
   ]
  },
  {
   "cell_type": "code",
   "execution_count": 1,
   "id": "8177f216",
   "metadata": {},
   "outputs": [
    {
     "name": "stdout",
     "output_type": "stream",
     "text": [
      "24\n"
     ]
    }
   ],
   "source": [
    "# 3. Жагсаалтын утгуудын үржвэрийг олох функц бич.\n",
    "\n",
    "list1 = [1, 2, 3, 4]\n",
    "\n",
    "def find_multiple(x):\n",
    "    multiple = 1\n",
    "    for item in x:\n",
    "        multiple = multiple * item\n",
    "    return multiple\n",
    "\n",
    "print(find_multiple(list1))\n",
    "\n",
    "        "
   ]
  },
  {
   "cell_type": "code",
   "execution_count": 10,
   "id": "63a3c40c",
   "metadata": {},
   "outputs": [
    {
     "name": "stdout",
     "output_type": "stream",
     "text": [
      "1 тоо оруулна уу: 5\n",
      "120\n"
     ]
    }
   ],
   "source": [
    "# 4. Өгөгдсөн тооны бактерал олох функц бич.\n",
    "\n",
    "number = int(input(\"1 тоо оруулна уу: \"))\n",
    "\n",
    "def faktorial(x):\n",
    "    count = 1\n",
    "    factorial = 1\n",
    "    while count <= x:\n",
    "        factorial *= count\n",
    "        count += 1\n",
    "    return factorial\n",
    "            \n",
    "print(faktorial(number))"
   ]
  },
  {
   "cell_type": "code",
   "execution_count": 16,
   "id": "841f8e69",
   "metadata": {},
   "outputs": [
    {
     "name": "stdout",
     "output_type": "stream",
     "text": [
      "[5, 4, 3, 2, 1]\n"
     ]
    }
   ],
   "source": [
    "# 5. Өгөгдсөн жагсаалтыг урвуу болгох функц бич.\n",
    "\n",
    "list2 = [1, 2, 3, 4, 5]\n",
    "\n",
    "def reverse(x):\n",
    "    reversed = []\n",
    "    length = len(x)\n",
    "    while 1 <= length:\n",
    "        length = length - 1\n",
    "        reversed.append(x[length]) \n",
    "    return reversed\n",
    "\n",
    "print(reverse(list2))"
   ]
  },
  {
   "cell_type": "code",
   "execution_count": 17,
   "id": "d4183a0d",
   "metadata": {},
   "outputs": [
    {
     "name": "stdout",
     "output_type": "stream",
     "text": [
      "15\n"
     ]
    }
   ],
   "source": [
    "# 6. Жагсаалтын утгуудын нийлбэрийг олох функц бич.\n",
    "\n",
    "def sum(x):\n",
    "    summed = 0\n",
    "#     count = 1\n",
    "    for i in x:\n",
    "        summed = summed + i\n",
    "    return summed\n",
    "\n",
    "print(sum(list2))"
   ]
  },
  {
   "cell_type": "code",
   "execution_count": 25,
   "id": "335a8ada",
   "metadata": {},
   "outputs": [
    {
     "name": "stdout",
     "output_type": "stream",
     "text": [
      "[2, 4, '4', 'hello', 'ok']\n"
     ]
    }
   ],
   "source": [
    "# 7. Жагсаалтын давхардсан утгуудыг арилгах функц бич.\n",
    "list3 = [\"hello\", \"hello\", 4, \"4\", 2, \"ok\"]\n",
    "\n",
    "def clear(x):\n",
    "    unique_list = list(set(x))\n",
    "    return unique_list\n",
    "\n",
    "cleared = clear(list3)\n",
    "print(cleared)"
   ]
  },
  {
   "cell_type": "code",
   "execution_count": 26,
   "id": "1b620e64",
   "metadata": {},
   "outputs": [
    {
     "name": "stdout",
     "output_type": "stream",
     "text": [
      "['hello', 4, '4', 2, 'ok']\n"
     ]
    }
   ],
   "source": [
    "# 7. Жагсаалтын давхардсан утгуудыг арилгах функц бич.\n",
    "\n",
    "def clear1(x):\n",
    "    unique_list = []\n",
    "    for item in x:\n",
    "        if item not in unique_list:\n",
    "            unique_list.append(item)\n",
    "    print(unique_list)\n",
    "    \n",
    "clear1(list3)"
   ]
  },
  {
   "cell_type": "code",
   "execution_count": 29,
   "id": "be9757a0",
   "metadata": {},
   "outputs": [
    {
     "name": "stdout",
     "output_type": "stream",
     "text": [
      "3\n"
     ]
    }
   ],
   "source": [
    "# 8. 3 тооны хамгийн ихийг олдог функц бич.\n",
    "\n",
    "list4 = [1, 2, 3]\n",
    "\n",
    "def findMax(x):\n",
    "    max_item = max(x)\n",
    "    print(max_item)\n",
    "    \n",
    "findMax(list4)"
   ]
  },
  {
   "cell_type": "code",
   "execution_count": null,
   "id": "72e53928",
   "metadata": {},
   "outputs": [],
   "source": []
  }
 ],
 "metadata": {
  "kernelspec": {
   "display_name": "Python 3",
   "language": "python",
   "name": "python3"
  },
  "language_info": {
   "codemirror_mode": {
    "name": "ipython",
    "version": 3
   },
   "file_extension": ".py",
   "mimetype": "text/x-python",
   "name": "python",
   "nbconvert_exporter": "python",
   "pygments_lexer": "ipython3",
   "version": "3.8.8"
  }
 },
 "nbformat": 4,
 "nbformat_minor": 5
}
