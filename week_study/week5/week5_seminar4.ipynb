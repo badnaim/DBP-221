{
 "cells": [
  {
   "cell_type": "code",
   "execution_count": 1,
   "id": "229b06c9",
   "metadata": {},
   "outputs": [],
   "source": [
    "# week 5 seminar"
   ]
  },
  {
   "cell_type": "code",
   "execution_count": 15,
   "id": "c96004df",
   "metadata": {},
   "outputs": [
    {
     "name": "stdout",
     "output_type": "stream",
     "text": [
      "[ 50  51  52  53  54  55  56  57  58  59  60  61  62  63  64  65  66  67\n",
      "  68  69  70  71  72  73  74  75  76  77  78  79  80  81  82  83  84  85\n",
      "  86  87  88  89  90  91  92  93  94  95  96  97  98  99 100]\n"
     ]
    }
   ],
   "source": [
    "# 1. 50-100 хүртэл тоон утга бүхий нэг хэмжээст массив (вектор) үүсгэ.\n",
    "\n",
    "import numpy as np\n",
    "\n",
    "numbers = np.arange(50, 101)\n",
    "print(numbers)"
   ]
  },
  {
   "cell_type": "code",
   "execution_count": 24,
   "id": "848ab1db",
   "metadata": {},
   "outputs": [
    {
     "name": "stdout",
     "output_type": "stream",
     "text": [
      "[1 1 1 1 1 1 1 1 1 1 0 0 0 0 0 0 0 0 0 0 6 6 6 6 6 6 6 6 6 6]\n"
     ]
    }
   ],
   "source": [
    "# 2. Арван ширхэг 1, арван ширхэг 0, арван ширхэг 6 тоо бүхий нэг хэмжээст массивууд\n",
    "# (вектор) үүсгэ.\n",
    "\n",
    "ones = np.ones(10, dtype=int)\n",
    "zeros = np.zeros(10, dtype=int)\n",
    "sixes = np.full(10, 6, dtype=int)\n",
    "\n",
    "result = np.concatenate((ones, zeros, sixes))\n",
    "print(result)"
   ]
  },
  {
   "cell_type": "code",
   "execution_count": 21,
   "id": "9fd1d161",
   "metadata": {},
   "outputs": [
    {
     "name": "stdout",
     "output_type": "stream",
     "text": [
      "[[20 21 22 23]\n",
      " [24 25 26 27]\n",
      " [28 29 30 31]]\n"
     ]
    }
   ],
   "source": [
    "# 3. 20-32 хүртэл тоон утга бүхий 3x4 хэмжээтэй массив үүсгэ.\n",
    "\n",
    "numbers1 = np.arange(20, 32)\n",
    "result = numbers1.reshape(3, 4)\n",
    "print(result)"
   ]
  },
  {
   "cell_type": "code",
   "execution_count": 33,
   "id": "cd45b2d2",
   "metadata": {},
   "outputs": [
    {
     "name": "stdout",
     "output_type": "stream",
     "text": [
      "[[1 0 0]\n",
      " [0 1 0]\n",
      " [0 0 1]]\n"
     ]
    }
   ],
   "source": [
    "# 4. Диагональ нь 1-ийн тоо, бусад нь 0 байх 3x3 хэмжээтэй массив үүсгэ.\n",
    "\n",
    "# one = np.array([1], dtype=int)\n",
    "# zeros = np.zeros(8, dtype=int)\n",
    "\n",
    "# array = np.concatenate((one, zeros))\n",
    "# result = array.reshape(3, 3)\n",
    "\n",
    "################\n",
    "\n",
    "# array = np.eye(3)\n",
    "\n",
    "################\n",
    "\n",
    "# array = np.array([[1, 0, 0],\n",
    "#                   [0, 1, 0],\n",
    "#                   [0, 0, 1]])\n",
    "\n",
    "################\n",
    "array = np.zeros((3, 3), dtype=int)\n",
    "\n",
    "for i in range(3):\n",
    "    array[i, i] = 1\n",
    "\n",
    "print(array)"
   ]
  },
  {
   "cell_type": "code",
   "execution_count": 36,
   "id": "2e8e273e",
   "metadata": {},
   "outputs": [
    {
     "name": "stdout",
     "output_type": "stream",
     "text": [
      "[[1 0 0 0 0]\n",
      " [0 2 0 0 0]\n",
      " [0 0 3 0 0]\n",
      " [0 0 0 4 0]\n",
      " [0 0 0 0 5]]\n"
     ]
    }
   ],
   "source": [
    "# 5. Диагональ нь 1-5 хүртэл тоо, бусад нь 0 байх 5х5 хэмжээтэй массив үүсгэ.\n",
    "\n",
    "array = np.zeros((5, 5), dtype=int)\n",
    "\n",
    "for i in range(5):\n",
    "    array[i, i] = i + 1\n",
    "\n",
    "print(array)"
   ]
  },
  {
   "cell_type": "code",
   "execution_count": 45,
   "id": "206b59a2",
   "metadata": {},
   "outputs": [
    {
     "name": "stdout",
     "output_type": "stream",
     "text": [
      "[[1 2 3]\n",
      " [4 5 6]]\n",
      "Total Sum: 21\n",
      "Column Sums: [5 7 9]\n",
      "Row Sums: [ 6 15]\n"
     ]
    }
   ],
   "source": [
    "# 6. Хоёр хэмжээст массив үүсгэж нийт элементүүдийн нийлбэр, багана, мөрийн\n",
    "# нийлбэрүүдийг хэвлэ.\n",
    "\n",
    "array = np.array([1, 2, 3, 4, 5, 6])\n",
    "array1 = array.reshape(2, 3)\n",
    "# sum_of_massive = np.sum(array1[0])\n",
    "# sum_of_column = np.sum(array1[1])\n",
    "\n",
    "total_sums = np.sum(array1)\n",
    "column_sums = np.sum(array1, axis=0)\n",
    "row_sums = np.sum(array1, axis=1)\n",
    "\n",
    "print(array1)\n",
    "print(\"Total Sum:\", total_sums)\n",
    "print(\"Column Sums:\", column_sums)\n",
    "print(\"Row Sums:\", row_sums)"
   ]
  },
  {
   "cell_type": "code",
   "execution_count": 63,
   "id": "8e4864e0",
   "metadata": {},
   "outputs": [
    {
     "name": "stdout",
     "output_type": "stream",
     "text": [
      "result_shaped [[605. 888. 743. 675. 555. 765. 974. 282. 838. 113.]\n",
      " [ 12.  11.  21.  21.  14.  16.  16.  15.  29.  20.]\n",
      " [ 17.  13.   1.  14.  19.  11.   8.   5.  10.  13.]]\n",
      "column_sums [634. 912. 765. 710. 588. 792. 998. 302. 877. 146.]\n",
      "row_sums [6438.  175.  111.]\n"
     ]
    }
   ],
   "source": [
    "# 7. Спортын сайтуудын мэдээллийг ашиглан хөл бөмбөгийн спортын дурын 10 тоглогчийн\n",
    "# сүүлийн арван жилийн цалин, нийт тоглолт, оруулсан гоалуудын талаар мэдээллийг\n",
    "# цуглуулж тус бүрээр массив үүсгэ. Үүсгэсэн массив тус бүрийн багана болон мөрүүдийн\n",
    "# нийлбэрийг хэвлэ.\n",
    "\n",
    "# creating dict------------------------\n",
    "# import random\n",
    "\n",
    "# football_data = []\n",
    "\n",
    "# for _ in range(10):\n",
    "#     player = {\n",
    "#         'Name': f'Player{_ + 1}',\n",
    "#         'Salary (in millions USD)': round(random.uniform(1, 10), 2),\n",
    "#         'Games Played in Year': random.randint(10, 30),\n",
    "#         'Goals Scored in Year': random.randint(0, 20)\n",
    "#     }\n",
    "#     football_data.append(player)\n",
    "\n",
    "# print(football_data)\n",
    "# creating dict------------------------\n",
    "\n",
    "import numpy as np\n",
    "import random\n",
    "\n",
    "names = []\n",
    "salaries = []\n",
    "games_played = []\n",
    "goals_scored = []\n",
    "\n",
    "for i in range(10):\n",
    "    names.append(f'Player{i + 1}')\n",
    "    salaries.append(round(random.uniform(1, 10), 2) * 100)\n",
    "    games_played.append(random.randint(10, 30))\n",
    "    goals_scored.append(random.randint(0, 20))\n",
    "    \n",
    "names_array = np.array(names)\n",
    "salaries_array = np.array(salaries)\n",
    "games_played_array = np.array(games_played)\n",
    "goals_scored_array = np.array(goals_scored)\n",
    "\n",
    "football_player_data = np.concatenate((salaries_array, games_played_array, goals_scored_array))\n",
    "\n",
    "result_shaped = football_player_data.reshape(3, 10)\n",
    "column_sums = np.sum(result_shaped, axis=0)\n",
    "row_sums = np.sum(result_shaped, axis=1)\n",
    "\n",
    "print(\"result_shaped\", result_shaped)\n",
    "print(\"column_sums\", column_sums)\n",
    "print(\"row_sums\", row_sums)"
   ]
  },
  {
   "cell_type": "code",
   "execution_count": null,
   "id": "010f8a38",
   "metadata": {},
   "outputs": [],
   "source": []
  }
 ],
 "metadata": {
  "kernelspec": {
   "display_name": "Python 3",
   "language": "python",
   "name": "python3"
  },
  "language_info": {
   "codemirror_mode": {
    "name": "ipython",
    "version": 3
   },
   "file_extension": ".py",
   "mimetype": "text/x-python",
   "name": "python",
   "nbconvert_exporter": "python",
   "pygments_lexer": "ipython3",
   "version": "3.8.8"
  }
 },
 "nbformat": 4,
 "nbformat_minor": 5
}
