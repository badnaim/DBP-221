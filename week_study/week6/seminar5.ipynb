{
 "cells": [
  {
   "cell_type": "code",
   "execution_count": 1,
   "id": "d2f16f34",
   "metadata": {},
   "outputs": [],
   "source": [
    "# 1. Гараас оруулсан n тоо хүртэл “*” тэмдэгтийг мөр бүрд хэвлэх функц бич.\n",
    "# Жишээ:\n",
    "# Орц:\n",
    "# n=6\n",
    "# Гарц:\n",
    "# *\n",
    "# **\n",
    "# ***\n",
    "# ****\n",
    "# *****\n",
    "# ******"
   ]
  },
  {
   "cell_type": "code",
   "execution_count": 4,
   "id": "dc6e0a1d",
   "metadata": {},
   "outputs": [
    {
     "name": "stdout",
     "output_type": "stream",
     "text": [
      "Enter number: 3\n",
      "*\n",
      "**\n",
      "***\n"
     ]
    }
   ],
   "source": [
    "def exercise_one(n):\n",
    "    number = 0\n",
    "    star = \"*\"\n",
    "    while number < n:\n",
    "        number += 1\n",
    "        print(star * number)\n",
    "\n",
    "n = int(input(\"Enter number: \"))\n",
    "exercise_one(n)\n"
   ]
  },
  {
   "cell_type": "code",
   "execution_count": 59,
   "id": "1cdde101",
   "metadata": {},
   "outputs": [
    {
     "name": "stdout",
     "output_type": "stream",
     "text": [
      "Enter number: 3\n",
      "['*\\n', '**\\n', '***\\n']\n"
     ]
    }
   ],
   "source": [
    "# 2. Гараас оруулсан n тоо хүртэл “*” тэмдэгтийг жагсаалтын мөр бүрд хэвлэх функц бич.\n",
    "# Орц:\n",
    "# n=6\n",
    "# Гарц:\n",
    "*\n",
    "**\n",
    "***\n",
    "****\n",
    "*****\n",
    "******\n",
    "\n",
    "# def exercise_two(n):\n",
    "#     array = []\n",
    "#     for i in range(1, n + 1):\n",
    "#         print('*' * i)\n",
    "\n",
    "def exercise_two(n):\n",
    "    arrayList = []\n",
    "    for i in range(1, n + 1):\n",
    "        arrayList.append(\"*\" * i + \"\\n\")\n",
    "    print(arrayList)\n",
    "\n",
    "n = int(input(\"Enter number: \"))\n",
    "exercise_two(n)"
   ]
  },
  {
   "cell_type": "code",
   "execution_count": 8,
   "id": "c3eb68f0",
   "metadata": {},
   "outputs": [],
   "source": [
    "# 3. Дараах жагсаалтаас хамгийн их, хамгийн бага key-г авах функц бич.\n",
    "# students = {\n",
    "#  'Bat': 18,\n",
    "#  'Oyun': 22,\n",
    "#  'Dulam': 21,\n",
    "#  'Suren: 20\n",
    "# }\n",
    "# Гарц:\n",
    "# (Oyun, Bat)"
   ]
  },
  {
   "cell_type": "code",
   "execution_count": 24,
   "id": "b3031213",
   "metadata": {},
   "outputs": [
    {
     "name": "stdout",
     "output_type": "stream",
     "text": [
      "('Oyun', 'Bat')\n"
     ]
    }
   ],
   "source": [
    "students = {\n",
    " 'Bat': 18,\n",
    " 'Oyun': 22,\n",
    " 'Dulam': 21,\n",
    " 'Suren': 20\n",
    "}\n",
    "\n",
    "def find_max_n_min(dict):\n",
    "    max_key = max(dict, key=dict.get)\n",
    "    min_key = min(dict, key=dict.get)\n",
    "    print((max_key, min_key))\n",
    "#     list = []\n",
    "#     for i in dict:\n",
    "#         list.append(dict[i])\n",
    "#     print(list)\n",
    "#     max_value = max(list)\n",
    "#     min_value = min(list)\n",
    "#     print(max_value)\n",
    "#     print(min_value)\n",
    "    \n",
    "\n",
    "find_max_n_min(students)"
   ]
  },
  {
   "cell_type": "code",
   "execution_count": 25,
   "id": "48f0bcf0",
   "metadata": {},
   "outputs": [],
   "source": [
    "# 4. np.arange(1-1000) массив үүсгэ. Тухайн массиваас 3 эсвэл 7 –д хуваагдах тоонуудын\n",
    "# нийлбэрийг ол."
   ]
  },
  {
   "cell_type": "code",
   "execution_count": 49,
   "id": "9e9946e8",
   "metadata": {},
   "outputs": [
    {
     "name": "stdout",
     "output_type": "stream",
     "text": [
      "sum:  23688.0\n"
     ]
    }
   ],
   "source": [
    "import numpy as np\n",
    "\n",
    "myList = np.arange(1, 1001)\n",
    "\n",
    "def custom_sum(n):\n",
    "    catch = np.array([])\n",
    "    for i in n:\n",
    "        if i % 3 == 0 and i % 7 == 0:\n",
    "            catch = np.append(catch, i)\n",
    "    summed = np.sum(catch) if len(catch) > 0 else 0\n",
    "    print(\"sum: \", summed)\n",
    "\n",
    "custom_sum(myList)\n"
   ]
  },
  {
   "cell_type": "code",
   "execution_count": null,
   "id": "78a4ec61",
   "metadata": {},
   "outputs": [],
   "source": []
  }
 ],
 "metadata": {
  "kernelspec": {
   "display_name": "Python 3",
   "language": "python",
   "name": "python3"
  },
  "language_info": {
   "codemirror_mode": {
    "name": "ipython",
    "version": 3
   },
   "file_extension": ".py",
   "mimetype": "text/x-python",
   "name": "python",
   "nbconvert_exporter": "python",
   "pygments_lexer": "ipython3",
   "version": "3.8.8"
  }
 },
 "nbformat": 4,
 "nbformat_minor": 5
}
