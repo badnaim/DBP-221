{
 "cells": [
  {
   "cell_type": "code",
   "execution_count": 2,
   "id": "5fdc19b2",
   "metadata": {},
   "outputs": [
    {
     "name": "stdout",
     "output_type": "stream",
     "text": [
      "['Lesson', 5, 'Is fuhn', True]\n"
     ]
    }
   ],
   "source": [
    "my_list = [\"Lesson\", 5, \"Is fuhn\", True]\n",
    "print(my_list)"
   ]
  },
  {
   "cell_type": "code",
   "execution_count": 5,
   "id": "7582c68d",
   "metadata": {},
   "outputs": [
    {
     "name": "stdout",
     "output_type": "stream",
     "text": [
      "['Lesson', 'Is fuhn', True]\n"
     ]
    }
   ],
   "source": [
    "my_list = [\"Lesson\", 5, \"Is fuhn\", True]\n",
    "my_list.remove(5)\n",
    "print(my_list)"
   ]
  },
  {
   "cell_type": "code",
   "execution_count": 7,
   "id": "60b55cc9",
   "metadata": {},
   "outputs": [
    {
     "name": "stdout",
     "output_type": "stream",
     "text": [
      "[1, 2, 3]\n"
     ]
    }
   ],
   "source": [
    "empty_list = []\n",
    "my_list = [1, 2, 3]\n",
    "cimbined = my_list + empty_list\n",
    "print(cimbined)\n"
   ]
  },
  {
   "cell_type": "code",
   "execution_count": 8,
   "id": "39820777",
   "metadata": {},
   "outputs": [
    {
     "name": "stdout",
     "output_type": "stream",
     "text": [
      "[1, 2, 3, 1, 2, 3]\n"
     ]
    }
   ],
   "source": [
    "list1 = [1, 2, 3]\n",
    "list2 = [1, 2, 3]\n",
    "list1.extend(list2)\n",
    "print(list1)"
   ]
  },
  {
   "cell_type": "code",
   "execution_count": 9,
   "id": "990c0aa7",
   "metadata": {},
   "outputs": [
    {
     "name": "stdout",
     "output_type": "stream",
     "text": [
      "hello\n"
     ]
    }
   ],
   "source": [
    " print(\"hello\")"
   ]
  },
  {
   "cell_type": "code",
   "execution_count": 21,
   "id": "a9118afa",
   "metadata": {},
   "outputs": [
    {
     "name": "stdout",
     "output_type": "stream",
     "text": [
      "length: 5\n",
      "max: 9\n",
      "min: 1\n",
      "mean value of the list 4.8\n"
     ]
    }
   ],
   "source": [
    "num_list = [1, 3, 4, 7, 9]\n",
    "print(\"length:\", len(num_list))\n",
    "print(\"max:\", max(num_list))\n",
    "print(\"min:\", min(num_list))\n",
    "print('mean value of the list', sum(num_list)/len(num_list))"
   ]
  },
  {
   "cell_type": "code",
   "execution_count": 24,
   "id": "80f13e26",
   "metadata": {},
   "outputs": [
    {
     "data": {
      "text/plain": [
       "False"
      ]
     },
     "execution_count": 24,
     "metadata": {},
     "output_type": "execute_result"
    }
   ],
   "source": [
    "1 not in num_list"
   ]
  },
  {
   "cell_type": "code",
   "execution_count": 25,
   "id": "b5f5fded",
   "metadata": {},
   "outputs": [
    {
     "data": {
      "text/plain": [
       "1"
      ]
     },
     "execution_count": 25,
     "metadata": {},
     "output_type": "execute_result"
    }
   ],
   "source": [
    "num_list.count(3)"
   ]
  },
  {
   "cell_type": "code",
   "execution_count": 27,
   "id": "206cee14",
   "metadata": {},
   "outputs": [
    {
     "name": "stdout",
     "output_type": "stream",
     "text": [
      "reversed list: [0, 5, 45, 2, 1]\n",
      "reversed list: [0, 1, 2, 5, 45]\n"
     ]
    }
   ],
   "source": [
    "new_list = [1, 2, 45, 5, 0]\n",
    "new_list.reverse()\n",
    "print(\"reversed list:\", new_list)\n",
    "new_list.sort()\n",
    "print(\"reversed list:\", new_list)"
   ]
  },
  {
   "cell_type": "code",
   "execution_count": 29,
   "id": "f4537b15",
   "metadata": {},
   "outputs": [
    {
     "name": "stdout",
     "output_type": "stream",
     "text": [
      "Herllo\n",
      "best\n",
      "friend.\n"
     ]
    }
   ],
   "source": [
    "another_list = [\"Herllo\", \"my\", \"best\", \"friend.\"]\n",
    "print(another_list[0])\n",
    "print(another_list[2])\n",
    "print(another_list[-1])"
   ]
  },
  {
   "cell_type": "code",
   "execution_count": 32,
   "id": "159200b8",
   "metadata": {},
   "outputs": [
    {
     "name": "stdout",
     "output_type": "stream",
     "text": [
      "3\n"
     ]
    }
   ],
   "source": [
    "nested_list = [[1, 2, 3], [4, 5, 6], [7, 8, 9]]\n",
    "print(nested_list[0][2])"
   ]
  },
  {
   "cell_type": "code",
   "execution_count": 33,
   "id": "1c54c286",
   "metadata": {},
   "outputs": [
    {
     "name": "stdout",
     "output_type": "stream",
     "text": [
      "['my', 'best']\n"
     ]
    }
   ],
   "source": [
    "my_slice = another_list[1:3]\n",
    "print(my_slice)"
   ]
  },
  {
   "cell_type": "code",
   "execution_count": 35,
   "id": "5a6b7162",
   "metadata": {},
   "outputs": [
    {
     "name": "stdout",
     "output_type": "stream",
     "text": [
      "['Herllo', 'best']\n"
     ]
    }
   ],
   "source": [
    "my_slice1 = another_list[0:6:2]\n",
    "print(my_slice1)"
   ]
  },
  {
   "cell_type": "code",
   "execution_count": 37,
   "id": "fcc81acc",
   "metadata": {},
   "outputs": [
    {
     "name": "stdout",
     "output_type": "stream",
     "text": [
      "[1, 3, 5]\n"
     ]
    }
   ],
   "source": [
    "list3 = [1,2,3,4,5,6,7,8,9]\n",
    "#--------0-----------6 range\n",
    "#--------2---2---2 chosen\n",
    "sliced = list3[0: 6: 2]\n",
    "print(sliced)"
   ]
  },
  {
   "cell_type": "code",
   "execution_count": 41,
   "id": "e4ea0792",
   "metadata": {},
   "outputs": [
    {
     "name": "stdout",
     "output_type": "stream",
     "text": [
      "[1, 2, 3, 4]\n",
      "[5, 6, 7, 8, 9]\n"
     ]
    }
   ],
   "source": [
    "slice4 = list3[:4]\n",
    "print(slice4)\n",
    "print(list3[4:])"
   ]
  },
  {
   "cell_type": "code",
   "execution_count": 50,
   "id": "4862844c",
   "metadata": {},
   "outputs": [
    {
     "name": "stdout",
     "output_type": "stream",
     "text": [
      "[5, 4, 3]\n"
     ]
    }
   ],
   "source": [
    "list6 = [1,2,3,4,5,6,7]\n",
    "#------------2---4\n",
    "print(list6[4:1:-1] )\n",
    "#4 ooroo orohgui urd hesgeer n tasalj bga, ehnii utga orj toologdono range todorhoi bolson bol ehnii index ees 1 eer hasagdana gesen ug bebi"
   ]
  },
  {
   "cell_type": "code",
   "execution_count": 56,
   "id": "24241557",
   "metadata": {},
   "outputs": [
    {
     "name": "stdout",
     "output_type": "stream",
     "text": [
      "[6, 5, 4, 3, 2, 1]\n",
      "[0, 2, 3, 4, 5, 6]\n",
      "[2, 3, 4, 5, 6]\n"
     ]
    }
   ],
   "source": [
    "list7 = [1,2,3,4,5,6]\n",
    "print(list7[::-1]) #reversed list\n",
    "list7[0] = 0\n",
    "print(list7)\n",
    "del(list7[0])\n",
    "print(list7)\n"
   ]
  },
  {
   "cell_type": "code",
   "execution_count": 62,
   "id": "0ecf3f0e",
   "metadata": {},
   "outputs": [
    {
     "ename": "IndexError",
     "evalue": "pop from empty list",
     "output_type": "error",
     "traceback": [
      "\u001b[1;31m---------------------------------------------------------------------------\u001b[0m",
      "\u001b[1;31mIndexError\u001b[0m                                Traceback (most recent call last)",
      "\u001b[1;32m<ipython-input-62-5dba0977b4de>\u001b[0m in \u001b[0;36m<module>\u001b[1;34m\u001b[0m\n\u001b[1;32m----> 1\u001b[1;33m \u001b[0mnext_item\u001b[0m \u001b[1;33m=\u001b[0m \u001b[0mlist7\u001b[0m\u001b[1;33m.\u001b[0m\u001b[0mpop\u001b[0m\u001b[1;33m(\u001b[0m\u001b[1;33m)\u001b[0m \u001b[1;31m# strip off end of the list\u001b[0m\u001b[1;33m\u001b[0m\u001b[1;33m\u001b[0m\u001b[0m\n\u001b[0m\u001b[0;32m      2\u001b[0m \u001b[0mone\u001b[0m \u001b[1;33m=\u001b[0m \u001b[1;33m[\u001b[0m\u001b[1;36m2\u001b[0m\u001b[1;33m,\u001b[0m \u001b[1;36m44\u001b[0m\u001b[1;33m,\u001b[0m \u001b[1;36m5\u001b[0m\u001b[1;33m]\u001b[0m\u001b[1;33m\u001b[0m\u001b[1;33m\u001b[0m\u001b[0m\n\u001b[0;32m      3\u001b[0m \u001b[0mtwo\u001b[0m \u001b[1;33m=\u001b[0m \u001b[0mone\u001b[0m\u001b[1;33m.\u001b[0m\u001b[0mappend\u001b[0m\u001b[1;33m(\u001b[0m\u001b[0mnext_item\u001b[0m\u001b[1;33m)\u001b[0m \u001b[1;31m#this cant be work and shows \"None\"\u001b[0m\u001b[1;33m\u001b[0m\u001b[1;33m\u001b[0m\u001b[0m\n\u001b[0;32m      4\u001b[0m \u001b[0mprint\u001b[0m\u001b[1;33m(\u001b[0m\u001b[0mtwo\u001b[0m\u001b[1;33m)\u001b[0m\u001b[1;33m\u001b[0m\u001b[1;33m\u001b[0m\u001b[0m\n\u001b[0;32m      5\u001b[0m \u001b[0mprint\u001b[0m\u001b[1;33m(\u001b[0m\u001b[0mnext_item\u001b[0m\u001b[1;33m)\u001b[0m\u001b[1;33m\u001b[0m\u001b[1;33m\u001b[0m\u001b[0m\n",
      "\u001b[1;31mIndexError\u001b[0m: pop from empty list"
     ]
    }
   ],
   "source": [
    "next_item = list7.pop() # strip off end of the list\n",
    "one = [2, 44, 5]\n",
    "two = one.append(next_item) #this cant be work and shows \"None\"\n",
    "print(two)\n",
    "print(next_item)\n",
    "print(list7)\n"
   ]
  },
  {
   "cell_type": "code",
   "execution_count": 63,
   "id": "41db9b0e",
   "metadata": {},
   "outputs": [
    {
     "name": "stdout",
     "output_type": "stream",
     "text": [
      "List1: [1, 2, 3, 4]\n",
      "List2: [1, 2, 3]\n"
     ]
    }
   ],
   "source": [
    "list9 = [1,2,3]\n",
    "list10 = list9.copy()\n",
    "list9.append(4)\n",
    "\n",
    "print(\"List1:\", list9)\n",
    "print(\"List2:\", list10)\n",
    "\n",
    "\n"
   ]
  },
  {
   "cell_type": "code",
   "execution_count": 64,
   "id": "6be6fd77",
   "metadata": {},
   "outputs": [
    {
     "name": "stdout",
     "output_type": "stream",
     "text": [
      "Before appending to list1:\n",
      "Listy2: ['List within a list', [1, 2, 3]]\n",
      "List3: ['List within a list', [1, 2, 3]] \n",
      "\n",
      "After appending to list1:\n",
      "List2: ['List within a list', [1, 2, 3, 4]]\n",
      "List3: ['List within a list', [1, 2, 3, 4]]\n"
     ]
    }
   ],
   "source": [
    "list1 = [1,2,3]\n",
    "list2  = [\"List within a list\", list1]\n",
    "list3 = list2.copy()\n",
    "\n",
    "print(\"Before appending to list1:\")\n",
    "print(\"Listy2:\", list2)\n",
    "print(\"List3:\", list3, \"\\n\")\n",
    "\n",
    "list1.append(4)\n",
    "print(\"After appending to list1:\")\n",
    "print(\"List2:\", list2)\n",
    "print(\"List3:\", list3)\n"
   ]
  },
  {
   "cell_type": "code",
   "execution_count": 8,
   "id": "9b0886c2",
   "metadata": {},
   "outputs": [
    {
     "name": "stdout",
     "output_type": "stream",
     "text": [
      "[1, 2, 3]\n",
      "['list within a list', [1, 2, 3]]\n",
      "['list within a list', [1, 2, 3]]\n",
      "[1, 2, 3, 4]\n",
      "['list within a list', [1, 2, 3, 4]]\n",
      "['list within a list', [1, 2, 3]]\n"
     ]
    }
   ],
   "source": [
    "import copy\n",
    "list1 = [1, 2, 3]\n",
    "list2 = [\"list within a list\", list1]\n",
    "list3 = copy.deepcopy(list2)\n",
    "\n",
    "print(list1)\n",
    "print(list2)\n",
    "print(list3)\n",
    "\n",
    "list1.append(4)\n",
    "\n",
    "print(list1)\n",
    "print(list2)\n",
    "print(list3)"
   ]
  },
  {
   "cell_type": "code",
   "execution_count": null,
   "id": "e0f9885b",
   "metadata": {},
   "outputs": [],
   "source": []
  }
 ],
 "metadata": {
  "kernelspec": {
   "display_name": "Python 3",
   "language": "python",
   "name": "python3"
  },
  "language_info": {
   "codemirror_mode": {
    "name": "ipython",
    "version": 3
   },
   "file_extension": ".py",
   "mimetype": "text/x-python",
   "name": "python",
   "nbconvert_exporter": "python",
   "pygments_lexer": "ipython3",
   "version": "3.8.8"
  }
 },
 "nbformat": 4,
 "nbformat_minor": 5
}
