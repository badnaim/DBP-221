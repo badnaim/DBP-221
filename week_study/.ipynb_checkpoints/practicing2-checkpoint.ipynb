{
 "cells": [
  {
   "cell_type": "code",
   "execution_count": 1,
   "id": "d31a14f8",
   "metadata": {},
   "outputs": [],
   "source": [
    "# Tuples\n",
    "# Tuples are an immutable sequence data type that are commonly used \n",
    "# to hold short collections of related data. For instance, if you wanrted to store latitude adn longitude coordinates for cities, tuples might be a good choice, necause the values are related and not likely to change. Like lists, \n",
    "# tuples can store objects of different types."
   ]
  },
  {
   "cell_type": "code",
   "execution_count": 2,
   "id": "eae874c0",
   "metadata": {},
   "outputs": [
    {
     "data": {
      "text/plain": [
       "(2, 3, 1, 4)"
      ]
     },
     "execution_count": 2,
     "metadata": {},
     "output_type": "execute_result"
    }
   ],
   "source": [
    "my_list = [2, 3, 1, 4]\n",
    "another_tuple = tuple(my_list)\n",
    "\n",
    "another_tuple"
   ]
  },
  {
   "cell_type": "code",
   "execution_count": 3,
   "id": "e06c4316",
   "metadata": {},
   "outputs": [
    {
     "data": {
      "text/plain": [
       "1"
      ]
     },
     "execution_count": 3,
     "metadata": {},
     "output_type": "execute_result"
    }
   ],
   "source": [
    "another_tuple[2]"
   ]
  },
  {
   "cell_type": "code",
   "execution_count": 4,
   "id": "7d6fc272",
   "metadata": {},
   "outputs": [
    {
     "data": {
      "text/plain": [
       "(1, 4)"
      ]
     },
     "execution_count": 4,
     "metadata": {},
     "output_type": "execute_result"
    }
   ],
   "source": [
    "another_tuple[2:4]"
   ]
  },
  {
   "cell_type": "code",
   "execution_count": 5,
   "id": "a81845d9",
   "metadata": {},
   "outputs": [
    {
     "name": "stdout",
     "output_type": "stream",
     "text": [
      "4\n",
      "1\n",
      "4\n",
      "10\n"
     ]
    }
   ],
   "source": [
    "print(len(another_tuple))\n",
    "print(min(another_tuple))\n",
    "print(max(another_tuple))\n",
    "print(sum(another_tuple))"
   ]
  },
  {
   "cell_type": "code",
   "execution_count": 6,
   "id": "02076e9e",
   "metadata": {},
   "outputs": [
    {
     "ename": "TypeError",
     "evalue": "'tuple' object doesn't support item deletion",
     "output_type": "error",
     "traceback": [
      "\u001b[1;31m---------------------------------------------------------------------------\u001b[0m",
      "\u001b[1;31mTypeError\u001b[0m                                 Traceback (most recent call last)",
      "\u001b[1;32m<ipython-input-6-be7baa7f0590>\u001b[0m in \u001b[0;36m<module>\u001b[1;34m\u001b[0m\n\u001b[1;32m----> 1\u001b[1;33m \u001b[1;32mdel\u001b[0m \u001b[0manother_tuple\u001b[0m\u001b[1;33m[\u001b[0m\u001b[1;36m1\u001b[0m\u001b[1;33m]\u001b[0m\u001b[1;33m\u001b[0m\u001b[1;33m\u001b[0m\u001b[0m\n\u001b[0m",
      "\u001b[1;31mTypeError\u001b[0m: 'tuple' object doesn't support item deletion"
     ]
    }
   ],
   "source": [
    "del another_tuple[1] #can not change the tuple "
   ]
  },
  {
   "cell_type": "code",
   "execution_count": 21,
   "id": "778b1f5c",
   "metadata": {},
   "outputs": [
    {
     "name": "stdout",
     "output_type": "stream",
     "text": [
      "lo world\n",
      "dlrow olleH\n",
      "11\n",
      "3\n",
      "hello world\n",
      "HELLO WORLD\n",
      "Hello World\n",
      "-1\n",
      "Hello badmaa\n",
      "['Hello', 'world']\n"
     ]
    }
   ],
   "source": [
    "string = \"Hello world\"\n",
    "print(string[3:]) #slice from 3th index \n",
    "print(string[::-1]) #reverse\n",
    "print(len(string))\n",
    "print(string.count('l'))\n",
    "print(string.lower())\n",
    "print(string.upper())\n",
    "print(string.title()) #make the first letter of each word uppercase\n",
    "print(string.find(\"W\")) #find the index of the string if it doesnt exist give -1\n",
    "print(string.replace(\"world\", \"badmaa\"))\n",
    "print(string.split())"
   ]
  },
  {
   "cell_type": "code",
   "execution_count": 23,
   "id": "232fd3ce",
   "metadata": {},
   "outputs": [
    {
     "data": {
      "text/plain": [
       "['I am', 'multiline', 'string!']"
      ]
     },
     "execution_count": 23,
     "metadata": {},
     "output_type": "execute_result"
    }
   ],
   "source": [
    "multiline_string = \"\"\"I am\n",
    "multiline\n",
    "string!\"\"\"\n",
    "multiline_string.splitlines()"
   ]
  },
  {
   "cell_type": "code",
   "execution_count": 26,
   "id": "7b0eaf4d",
   "metadata": {},
   "outputs": [
    {
     "data": {
      "text/plain": [
       "'BuyNO'"
      ]
     },
     "execution_count": 26,
     "metadata": {},
     "output_type": "execute_result"
    }
   ],
   "source": [
    "\"  strip white space!  \".strip()\n",
    "\"xXxxBuyNOWxxXx\".strip(\"xXW\")"
   ]
  },
  {
   "cell_type": "code",
   "execution_count": 28,
   "id": "0bf856ef",
   "metadata": {},
   "outputs": [
    {
     "data": {
      "text/plain": [
       "'Hello world'"
      ]
     },
     "execution_count": 28,
     "metadata": {},
     "output_type": "execute_result"
    }
   ],
   "source": [
    "\"Hello \" + \"world\""
   ]
  },
  {
   "cell_type": "code",
   "execution_count": 29,
   "id": "c48d4d7c",
   "metadata": {},
   "outputs": [
    {
     "data": {
      "text/plain": [
       "'Hello World! Join Me!'"
      ]
     },
     "execution_count": 29,
     "metadata": {},
     "output_type": "execute_result"
    }
   ],
   "source": [
    "\" \".join([\"Hello\", \"World!\", \"Join\", \"Me!\"])"
   ]
  },
  {
   "cell_type": "code",
   "execution_count": 30,
   "id": "fb1be8f0",
   "metadata": {},
   "outputs": [
    {
     "data": {
      "text/plain": [
       "'My name is Joe I am 10 and I live in Paris'"
      ]
     },
     "execution_count": 30,
     "metadata": {},
     "output_type": "execute_result"
    }
   ],
   "source": [
    "name = \"Joe\"\n",
    "age = 10\n",
    "city = \"Paris\"\n",
    "\n",
    "\"My name is \" + name + \" I am \" + str(age) + \" and I live in \" + \"Paris\""
   ]
  },
  {
   "cell_type": "code",
   "execution_count": 31,
   "id": "85e97c80",
   "metadata": {},
   "outputs": [
    {
     "data": {
      "text/plain": [
       "'My name Joe I am 10 and I live in Paris'"
      ]
     },
     "execution_count": 31,
     "metadata": {},
     "output_type": "execute_result"
    }
   ],
   "source": [
    "template_string = \"My name {} I am {} and I live in {}\"\n",
    "\n",
    "template_string.format(name, age, city)"
   ]
  },
  {
   "cell_type": "code",
   "execution_count": 33,
   "id": "8737f1fa",
   "metadata": {},
   "outputs": [
    {
     "data": {
      "text/plain": [
       "'My name is Joe I am 10 and I live in Paris'"
      ]
     },
     "execution_count": 33,
     "metadata": {},
     "output_type": "execute_result"
    }
   ],
   "source": [
    "# Remaking the example above using an f-string\n",
    "f\"My name is {name} I am {age} and I live in {city}\""
   ]
  },
  {
   "cell_type": "code",
   "execution_count": null,
   "id": "8972277f",
   "metadata": {},
   "outputs": [],
   "source": []
  }
 ],
 "metadata": {
  "kernelspec": {
   "display_name": "Python 3",
   "language": "python",
   "name": "python3"
  },
  "language_info": {
   "codemirror_mode": {
    "name": "ipython",
    "version": 3
   },
   "file_extension": ".py",
   "mimetype": "text/x-python",
   "name": "python",
   "nbconvert_exporter": "python",
   "pygments_lexer": "ipython3",
   "version": "3.8.8"
  }
 },
 "nbformat": 4,
 "nbformat_minor": 5
}
