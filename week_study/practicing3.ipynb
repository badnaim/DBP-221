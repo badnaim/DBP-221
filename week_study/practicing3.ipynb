{
 "cells": [
  {
   "cell_type": "code",
   "execution_count": 1,
   "id": "54d28f4f",
   "metadata": {},
   "outputs": [],
   "source": [
    "# Puthon for Data 7: Dictionaries and sets"
   ]
  },
  {
   "cell_type": "code",
   "execution_count": 4,
   "id": "95c5870d",
   "metadata": {},
   "outputs": [
    {
     "name": "stdout",
     "output_type": "stream",
     "text": [
      "{'name': 'Bat', 'age': 10, 'city': 'Paris'}\n"
     ]
    }
   ],
   "source": [
    "my_dict = {\"name\": \"Bat\", \"age\": 10, \"city\": 'Paris'}\n",
    "print(my_dict)"
   ]
  },
  {
   "cell_type": "code",
   "execution_count": 5,
   "id": "69352584",
   "metadata": {},
   "outputs": [
    {
     "name": "stdout",
     "output_type": "stream",
     "text": [
      "{'name': 'Bat', 'age': 10, 'city': 'Paris', 'new_key': 'new_key'}\n"
     ]
    }
   ],
   "source": [
    "my_dict[\"new_key\"] = \"new_key\"\n",
    "print(my_dict)"
   ]
  },
  {
   "cell_type": "code",
   "execution_count": 6,
   "id": "3bf335c0",
   "metadata": {},
   "outputs": [
    {
     "name": "stdout",
     "output_type": "stream",
     "text": [
      "{'name': 'Bat', 'age': 10, 'city': 'Paris'}\n"
     ]
    }
   ],
   "source": [
    "del my_dict[\"new_key\"]\n",
    "print(my_dict)"
   ]
  },
  {
   "cell_type": "code",
   "execution_count": 7,
   "id": "c6a8f283",
   "metadata": {},
   "outputs": [
    {
     "data": {
      "text/plain": [
       "True"
      ]
     },
     "execution_count": 7,
     "metadata": {},
     "output_type": "execute_result"
    }
   ],
   "source": [
    "\"name\" in my_dict"
   ]
  },
  {
   "cell_type": "code",
   "execution_count": 8,
   "id": "6e088010",
   "metadata": {},
   "outputs": [
    {
     "data": {
      "text/plain": [
       "dict_keys(['name', 'age', 'city'])"
      ]
     },
     "execution_count": 8,
     "metadata": {},
     "output_type": "execute_result"
    }
   ],
   "source": [
    "my_dict.keys()"
   ]
  },
  {
   "cell_type": "code",
   "execution_count": 9,
   "id": "e00174f3",
   "metadata": {},
   "outputs": [
    {
     "data": {
      "text/plain": [
       "True"
      ]
     },
     "execution_count": 9,
     "metadata": {},
     "output_type": "execute_result"
    }
   ],
   "source": [
    "\"Paris\" in my_dict.values()"
   ]
  },
  {
   "cell_type": "code",
   "execution_count": 15,
   "id": "c97e8178",
   "metadata": {},
   "outputs": [
    {
     "name": "stdout",
     "output_type": "stream",
     "text": [
      "recursion example results\n",
      "1\n",
      "3\n",
      "6\n",
      "10\n",
      "15\n",
      "21\n",
      "28\n"
     ]
    },
    {
     "data": {
      "text/plain": [
       "28"
      ]
     },
     "execution_count": 15,
     "metadata": {},
     "output_type": "execute_result"
    }
   ],
   "source": [
    "def tri_recursion(k):\n",
    "    if(k > 0):\n",
    "        result = k + tri_recursion(k - 1)\n",
    "#         print(\"tri_recursion\", tri_recursion(k-1))\n",
    "        print(result)\n",
    "    else:\n",
    "        result = 0\n",
    "    return result\n",
    "\n",
    "print(\"recursion example results\")\n",
    "tri_recursion(7)"
   ]
  },
  {
   "cell_type": "code",
   "execution_count": 17,
   "id": "0fc69358",
   "metadata": {},
   "outputs": [
    {
     "name": "stdout",
     "output_type": "stream",
     "text": [
      "['inside', 0, 1, 2, 3, 4]\n",
      "['outside']\n"
     ]
    }
   ],
   "source": [
    "a = [\"outside\"]\n",
    "def func():\n",
    "    a = [\"inside\"]\n",
    "    for i in range(5):\n",
    "        a.append(i)\n",
    "    print(a)\n",
    "func()\n",
    "print(a)"
   ]
  },
  {
   "cell_type": "code",
   "execution_count": 18,
   "id": "9dd13bd8",
   "metadata": {},
   "outputs": [
    {
     "name": "stdout",
     "output_type": "stream",
     "text": [
      "['inside', 0, 1, 2, 3, 4]\n",
      "['inside', 0, 1, 2, 3, 4]\n"
     ]
    }
   ],
   "source": [
    "a = [\"outside\"]\n",
    "def func():\n",
    "    global a\n",
    "    a = [\"inside\"]\n",
    "    for i in range(5):\n",
    "        a.append(i)\n",
    "    print(a)\n",
    "func()\n",
    "print(a)"
   ]
  },
  {
   "cell_type": "code",
   "execution_count": 20,
   "id": "faf37654",
   "metadata": {},
   "outputs": [
    {
     "name": "stdout",
     "output_type": "stream",
     "text": [
      "1 2 3\n"
     ]
    }
   ],
   "source": [
    "# function aas huwisagch tus bureer n butsaah\n",
    "\n",
    "def f():\n",
    "    a = 1\n",
    "    b = 2\n",
    "    c = 3\n",
    "    return a, b, c\n",
    "\n",
    "a, b, c = f()\n",
    "print(a, b, c)"
   ]
  },
  {
   "cell_type": "code",
   "execution_count": 21,
   "id": "976eaea6",
   "metadata": {},
   "outputs": [
    {
     "name": "stdout",
     "output_type": "stream",
     "text": [
      "(1, 2, 3)\n"
     ]
    }
   ],
   "source": [
    "# function aas tuple butsaah\n",
    "\n",
    "def f():\n",
    "    a = 1\n",
    "    b = 2\n",
    "    c = 3\n",
    "    return a, b, c\n",
    "\n",
    "return_value = f()\n",
    "print(return_value)"
   ]
  },
  {
   "cell_type": "code",
   "execution_count": 22,
   "id": "0f3cf5f0",
   "metadata": {},
   "outputs": [
    {
     "name": "stdout",
     "output_type": "stream",
     "text": [
      "{'a': 1, 'b': 2, 'c': 3}\n"
     ]
    }
   ],
   "source": [
    "# function aas dictionary butsaah\n",
    "\n",
    "def f():\n",
    "    a = 1\n",
    "    b = 2\n",
    "    c = 3\n",
    "    return {\"a\": a, \"b\": b, \"c\": c}\n",
    "\n",
    "x = f()\n",
    "print(x)"
   ]
  },
  {
   "cell_type": "code",
   "execution_count": 27,
   "id": "1087c7fb",
   "metadata": {},
   "outputs": [
    {
     "name": "stdout",
     "output_type": "stream",
     "text": [
      "['Alabama', 'Georgia', 'Georgia', 'Florida', 'South Carolina', 'West Virginia']\n"
     ]
    }
   ],
   "source": [
    "# ogogdliig tsewerleh ajil\n",
    "\n",
    "import re\n",
    "states = [\" Alabama \", 'Georgia!', 'georgia', 'FlOrIda', 'south carolina##', 'West virginia?']\n",
    "\n",
    "def clean_strings(strings):\n",
    "    result=[]\n",
    "    for value in strings:\n",
    "        value = value.strip()\n",
    "        value = re.sub('[!#?]', '', value)\n",
    "        value = value.title()\n",
    "        result.append(value)\n",
    "    return result\n",
    "\n",
    "print(clean_strings(states))"
   ]
  },
  {
   "cell_type": "code",
   "execution_count": 28,
   "id": "0965bd22",
   "metadata": {},
   "outputs": [
    {
     "name": "stdout",
     "output_type": "stream",
     "text": [
      "['Alabama', 'Georgia', 'Georgia', 'Florida', 'South Carolina', 'West Virginia']\n"
     ]
    }
   ],
   "source": [
    "# ene function clean_ops dotor duudagdaj baina\n",
    "def remove_punctuation(value):\n",
    "    return re.sub('[!#?>]', '', value)\n",
    "\n",
    "# function daraalal gej oilgoloo \n",
    "clean_ops = [str.strip, remove_punctuation, str.title]\n",
    "\n",
    "# deerh function uudiig door negtej dawhar loop erguulj bna, etsest n ogogdliig tsewerlej duusgasan \n",
    "def clean_strings(strings, ops):\n",
    "    result = []\n",
    "    for value in strings:\n",
    "#         ene loopiig funcion dotor duudaj bna\n",
    "        for function in ops:\n",
    "            value = function(value)\n",
    "#         ene loopiig funcion dotor duudaj bna\n",
    "        result.append(value)\n",
    "    return result\n",
    "\n",
    "# dawhar utga bolon function duudaj bga mon tuhain function n dotoroo function duudaj bna\n",
    "print(clean_strings(states, clean_ops))"
   ]
  },
  {
   "cell_type": "code",
   "execution_count": 29,
   "id": "ea6b45cf",
   "metadata": {},
   "outputs": [
    {
     "name": "stdout",
     "output_type": "stream",
     "text": [
      "24\n",
      "24\n"
     ]
    }
   ],
   "source": [
    "# Lambda function\n",
    "def short_function(x):\n",
    "    return x * 2\n",
    "\n",
    "multiplex2 = lambda x: x * 2\n",
    "\n",
    "print(short_function(12))\n",
    "print(multiplex2(12))"
   ]
  },
  {
   "cell_type": "code",
   "execution_count": 31,
   "id": "288bbbda",
   "metadata": {},
   "outputs": [
    {
     "name": "stdout",
     "output_type": "stream",
     "text": [
      "[1, 2, 3, 4, 5, 6, 7, 8, 9, 10, 11, 12]\n",
      "[2, 4, 6, 8, 10, 12]\n"
     ]
    }
   ],
   "source": [
    "numbers = [1, 2, 3, 4, 5, 6, 7, 8, 9, 10, 11, 12]\n",
    "even = list(filter(lambda x: x%2==0, numbers))\n",
    "\n",
    "print(numbers)\n",
    "print(even)"
   ]
  },
  {
   "cell_type": "code",
   "execution_count": 35,
   "id": "8eb5720a",
   "metadata": {},
   "outputs": [
    {
     "name": "stdout",
     "output_type": "stream",
     "text": [
      "33\n"
     ]
    }
   ],
   "source": [
    "def myfunc(n):\n",
    "    return lambda a: a*n\n",
    "\n",
    "mytripler = myfunc(3)\n",
    "\n",
    "print(mytripler(11))"
   ]
  },
  {
   "cell_type": "code",
   "execution_count": 36,
   "id": "2162fa8a",
   "metadata": {},
   "outputs": [
    {
     "name": "stdout",
     "output_type": "stream",
     "text": [
      "True\n",
      "False\n"
     ]
    }
   ],
   "source": [
    "# Lambda function if\n",
    "\n",
    "a = lambda x : (x > 1 and x < 100)\n",
    "print(a(10))\n",
    "print(a(101))"
   ]
  },
  {
   "cell_type": "code",
   "execution_count": 37,
   "id": "149d5b04",
   "metadata": {},
   "outputs": [
    {
     "name": "stdout",
     "output_type": "stream",
     "text": [
      "Үнэн\n",
      "Худал\n"
     ]
    }
   ],
   "source": [
    "a = lambda x : \"Үнэн\" if (x > 1 and x < 100) else \"Худал\"\n",
    "print(a(10))\n",
    "print(a(101))"
   ]
  },
  {
   "cell_type": "code",
   "execution_count": 38,
   "id": "c1c6179f",
   "metadata": {},
   "outputs": [
    {
     "name": "stdout",
     "output_type": "stream",
     "text": [
      "10\n",
      "101\n"
     ]
    }
   ],
   "source": [
    "a = lambda x : x*2 if x < 1 else (x*3 if x < 10 else x)\n",
    "print(a(10))\n",
    "print(a(101))"
   ]
  },
  {
   "cell_type": "code",
   "execution_count": 39,
   "id": "1cf4acc0",
   "metadata": {},
   "outputs": [
    {
     "name": "stdout",
     "output_type": "stream",
     "text": [
      "11\n"
     ]
    }
   ],
   "source": [
    "def add_numbers(x, y):\n",
    "    return x + y\n",
    "\n",
    "add_five = lambda y: add_numbers(5, y)\n",
    "\n",
    "print(add_five(6))"
   ]
  },
  {
   "cell_type": "code",
   "execution_count": 40,
   "id": "1701666a",
   "metadata": {},
   "outputs": [
    {
     "name": "stdout",
     "output_type": "stream",
     "text": [
      "enter a numerator: 1\n",
      "enter a denominator: 2\n",
      "result of division: 0.5\n",
      "Execution complete\n"
     ]
    }
   ],
   "source": [
    "# try blkock ni code iin aldaag shalgah bolomjiig olgono\n",
    "# except block ni aldaag zasah bolomjiig olgono\n",
    "# else block n aldaa baihgui uyd code iig guitsetgeh bolomjiig olgono\n",
    "# finally block n tur try, except block iin ur dungees ul hamaaran code iig guitsetgeh bolomjiig olgono\n",
    "\n",
    "try:\n",
    "    #Алдааа гарах боломжтой код\n",
    "    num1 = int(input(\"enter a numerator: \"))\n",
    "    num2 = int(input(\"enter a denominator: \"))\n",
    "    result = num1 / num2\n",
    "except ZeroDivisionError:\n",
    "    # Toog 0-d huwaah uyd garah aldaa\n",
    "    print('Error: division by zero!')\n",
    "    \n",
    "except ValueError:\n",
    "    #buruu utha oruulah uyd garah aldaa\n",
    "    print(\"Error: incvalid input! please enter valid integers\")\n",
    "else:\n",
    "    #except boloogui buyu aldaa garaagui uyd ajillana\n",
    "    print(f\"result of division: {result}\")\n",
    "finally:\n",
    "    #ymr ch uyd ajillana\n",
    "    print(\"Execution complete\")"
   ]
  },
  {
   "cell_type": "code",
   "execution_count": 41,
   "id": "a9a6a5b5",
   "metadata": {},
   "outputs": [
    {
     "name": "stdout",
     "output_type": "stream",
     "text": [
      "File iig neeh uyd aldaa garlaa\n"
     ]
    }
   ],
   "source": [
    "try:\n",
    "    f = open(\"DBP221.txt\")\n",
    "    try:\n",
    "        f.write(\"Hello World!\")\n",
    "    except:\n",
    "        print(\"Ug file d bichih uyd aldaa garlaa\")\n",
    "    finally:\n",
    "        f.close()\n",
    "except:\n",
    "    print(\"File iig neeh uyd aldaa garlaa\")"
   ]
  },
  {
   "cell_type": "code",
   "execution_count": null,
   "id": "84ab2f23",
   "metadata": {},
   "outputs": [],
   "source": []
  }
 ],
 "metadata": {
  "kernelspec": {
   "display_name": "Python 3",
   "language": "python",
   "name": "python3"
  },
  "language_info": {
   "codemirror_mode": {
    "name": "ipython",
    "version": 3
   },
   "file_extension": ".py",
   "mimetype": "text/x-python",
   "name": "python",
   "nbconvert_exporter": "python",
   "pygments_lexer": "ipython3",
   "version": "3.8.8"
  }
 },
 "nbformat": 4,
 "nbformat_minor": 5
}
