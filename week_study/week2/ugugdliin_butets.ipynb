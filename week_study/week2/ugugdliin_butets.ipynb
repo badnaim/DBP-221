{
 "cells": [
  {
   "cell_type": "code",
   "execution_count": 1,
   "id": "552a7f54",
   "metadata": {},
   "outputs": [
    {
     "name": "stdout",
     "output_type": "stream",
     "text": [
      "hello\n"
     ]
    }
   ],
   "source": [
    "print(\"hello\")"
   ]
  },
  {
   "cell_type": "code",
   "execution_count": 2,
   "id": "20212bdc",
   "metadata": {},
   "outputs": [
    {
     "name": "stdout",
     "output_type": "stream",
     "text": [
      "('o', 'k', 'p', 'b')\n"
     ]
    }
   ],
   "source": [
    "#tuple item assignment demjdeggui buyu oorchlolt hiih bolomjgui yumaa kk.\n",
    "x = (\"o\", \"a\", \"p\", \"b\")\n",
    "y = list(x)\n",
    "y[1] = \"k\"\n",
    "x = tuple(y)\n",
    "print(x)"
   ]
  },
  {
   "cell_type": "code",
   "execution_count": 11,
   "id": "23c7f1ea",
   "metadata": {},
   "outputs": [
    {
     "name": "stdout",
     "output_type": "stream",
     "text": [
      "orange\n",
      "apple\n",
      "pear\n",
      "banana\n",
      "kiwi\n",
      "apple\n",
      "banana\n",
      "orange\n",
      "apple\n",
      "pear\n",
      "banana\n",
      "kiwi\n",
      "apple\n",
      "banana\n"
     ]
    }
   ],
   "source": [
    "fruits = ('orange', 'apple', 'pear', 'banana', 'kiwi', 'apple', 'banana')\n",
    "for i in fruits:\n",
    "    print(i)\n",
    "k=0\n",
    "while len(fruits) > k:\n",
    "    print(fruits[k])\n",
    "    k += 1"
   ]
  },
  {
   "cell_type": "code",
   "execution_count": 16,
   "id": "9efb44ca",
   "metadata": {},
   "outputs": [
    {
     "name": "stdout",
     "output_type": "stream",
     "text": [
      "bhqe\n"
     ]
    }
   ],
   "source": [
    "fruits = ('orange', 'apple', 'pear', 'banana', 'kiwi', 'apple', 'banana')\n",
    "if 'j' in fruits:\n",
    "    print('banana')\n",
    "else:\n",
    "    print(\"bhqe\")"
   ]
  },
  {
   "cell_type": "code",
   "execution_count": 18,
   "id": "206145a9",
   "metadata": {},
   "outputs": [
    {
     "name": "stdout",
     "output_type": "stream",
     "text": [
      "5 6\n"
     ]
    }
   ],
   "source": [
    "x = 5\n",
    "y = 6\n",
    "a = x\n",
    "b = y\n",
    "x = b\n",
    "y = a\n",
    "#(x,y) = (y,x)\n",
    "print(y, x)"
   ]
  },
  {
   "cell_type": "code",
   "execution_count": 25,
   "id": "1061aea8",
   "metadata": {},
   "outputs": [
    {
     "name": "stdout",
     "output_type": "stream",
     "text": [
      "1\n",
      "k\n"
     ]
    }
   ],
   "source": [
    "def hhe(a):\n",
    "    if a < 0:\n",
    "        a = a * -1\n",
    "        print(\"h\")\n",
    "    else:\n",
    "        print(\"k\")"
   ]
  },
  {
   "cell_type": "code",
   "execution_count": 24,
   "id": "7374dd2c",
   "metadata": {},
   "outputs": [
    {
     "name": "stdout",
     "output_type": "stream",
     "text": [
      "1\n",
      "k\n"
     ]
    }
   ],
   "source": [
    "x = int(input())\n",
    "hhe(x)"
   ]
  },
  {
   "cell_type": "code",
   "execution_count": 27,
   "id": "a518c82a",
   "metadata": {},
   "outputs": [
    {
     "data": {
      "text/plain": [
       "(1, 2)"
      ]
     },
     "execution_count": 27,
     "metadata": {},
     "output_type": "execute_result"
    }
   ],
   "source": [
    "def num1(x, y):\n",
    "    a = x//y  #buhel\n",
    "    b = x%y #uldegdel\n",
    "    return (a, b)\n",
    "num1(5, 3)"
   ]
  },
  {
   "cell_type": "code",
   "execution_count": 28,
   "id": "68b39cdc",
   "metadata": {},
   "outputs": [],
   "source": [
    "# set ogogdliig index-juuldeggui, erembeldeggui oorchloh, zaswarlah bolomjgui, ustgah, shineer utga \n",
    "# nemj bolno\n",
    "# dawhardahgui bogood index baihgui, "
   ]
  },
  {
   "cell_type": "code",
   "execution_count": 48,
   "id": "5fb6d6e5",
   "metadata": {},
   "outputs": [
    {
     "name": "stdout",
     "output_type": "stream",
     "text": [
      "set()\n"
     ]
    }
   ],
   "source": [
    "fruits = {'orange', 'apple', 'pear', 'banana', 'kiwi', 'apple', 'banana'}\n",
    "fruits.add('grape')\n",
    "fruits.update(['grape', 'melon', 'lemon'])\n",
    "fruits.remove('grape') # ug utga bhq bol aldaa zaana\n",
    "fruits.discard('apple') # ug utga n baiwal ustgana bhq bol aldaa zaahgui \n",
    "# fruits.pop() #hamgiin suuld nemsen utgiig ustgadag\n",
    "fruits.clear()\n",
    "# del fruits\n",
    "print(fruits)"
   ]
  },
  {
   "cell_type": "code",
   "execution_count": null,
   "id": "eef491b8",
   "metadata": {},
   "outputs": [],
   "source": [
    "fruits = {'orange', 'apple', 'pear', 'banana', 'kiwi', 'apple', 'banana'}\n",
    "print('orange' in fruits)"
   ]
  },
  {
   "cell_type": "code",
   "execution_count": 51,
   "id": "2b7f93de",
   "metadata": {},
   "outputs": [
    {
     "name": "stdout",
     "output_type": "stream",
     "text": [
      "Newset {'pear'}\n",
      "Unionset {'tomato', 'potato', 'orange', 'apple', 'pear'}\n"
     ]
    }
   ],
   "source": [
    "fruits = {'orange', 'apple', 'pear'}\n",
    "veggie = {'pear', 'potato', 'tomato'}\n",
    "Newset = fruits.intersection(veggie)\n",
    "Unionset = fruits.union(veggie)\n",
    "\n",
    "print(\"Newset\", Newset)\n",
    "print(\"Unionset\", Unionset)"
   ]
  },
  {
   "cell_type": "code",
   "execution_count": 57,
   "id": "623fb6ae",
   "metadata": {},
   "outputs": [
    {
     "name": "stdout",
     "output_type": "stream",
     "text": [
      "{'Manufacturer': 'Tesla', 'Model': ' 3', 'Year': 2021}\n",
      "Tesla\n",
      "Tesla\n",
      "{'Manufacturer': 'Tesla', 'Model': 'S', 'Year': 2021}\n"
     ]
    }
   ],
   "source": [
    "# dict\n",
    "# tulhuur ug: hargalzah utga\n",
    "# key: value\n",
    "dict1 = {\n",
    "'Manufacturer'\n",
    ":\n",
    "'Tesla',\n",
    "'Model'\n",
    ": ' 3',\n",
    "'Year'\n",
    ": 2021 }\n",
    "print (dict1)\n",
    "x = dict1['Manufacturer'] #same\n",
    "y = dict1.get('Manufacturer') #same\n",
    "dict1['Model'] = 'S'\n",
    "print(x)\n",
    "print(y)\n",
    "print (dict1)\n",
    "\n"
   ]
  },
  {
   "cell_type": "code",
   "execution_count": 72,
   "id": "4994e75c",
   "metadata": {},
   "outputs": [
    {
     "name": "stdout",
     "output_type": "stream",
     "text": [
      "{'Manufacturer': 'Tesla', 'Model': ' 3'}\n"
     ]
    }
   ],
   "source": [
    "dict1 = {\n",
    "'Manufacturer'\n",
    ":\n",
    "'Tesla',\n",
    "'Model'\n",
    ": ' 3',\n",
    "'Year'\n",
    ": 2021 }\n",
    "\n",
    "# for i in dict1:\n",
    "#     print(i,\":\" ,dict1[i])\n",
    "\n",
    "# for x,y in dict1.items():\n",
    "#     print(x, y)\n",
    "\n",
    "# if 'Model' in dict1:\n",
    "#     print('Model', dict1[\"Model\"], 'is in it.')\n",
    "# else:\n",
    "#     print('No')\n",
    "\n",
    "# dict1['CEO'] = \"elon\"\n",
    "# print(dict1)\n",
    "\n",
    "# print(len(dict1))\n",
    "\n",
    "# dict1.pop('Year')\n",
    "# print(dict1)\n",
    "\n",
    "dict1.clear()\n",
    "del dict1"
   ]
  },
  {
   "cell_type": "code",
   "execution_count": null,
   "id": "9d3abcdc",
   "metadata": {},
   "outputs": [],
   "source": []
  }
 ],
 "metadata": {
  "kernelspec": {
   "display_name": "Python 3",
   "language": "python",
   "name": "python3"
  },
  "language_info": {
   "codemirror_mode": {
    "name": "ipython",
    "version": 3
   },
   "file_extension": ".py",
   "mimetype": "text/x-python",
   "name": "python",
   "nbconvert_exporter": "python",
   "pygments_lexer": "ipython3",
   "version": "3.8.8"
  }
 },
 "nbformat": 4,
 "nbformat_minor": 5
}
